{
 "cells": [
  {
   "cell_type": "markdown",
   "metadata": {},
   "source": [
    "# Bayes' Rule\n",
    "\n",
    "You know that Bayes' rule can be described as a way to improve a prior belief by incorporating observed data, related to this belief (like test data or sensor measurements). The rule is written as: \n",
    "\n",
    "$$P(A|B) = \\frac{P(B|A)\\cdot P(A)} {P(B)}$$\n",
    "\n",
    "Where A is the event and B is some observed, related data.\n",
    "\n",
    "In this next quiz, given only three probabilities: `p_A`, `p_B_given_A`, and `p_notB_given_notA`, which can be written in notation as: \n",
    "\n",
    "$$P(A), P(B|A)$$ \n",
    "$$P(\\neg B|\\neg A)$$ \n",
    "\n",
    "You will be asked to write a function to calculate the posterior probability \n",
    "$$P(A|B)$$\n",
    "\n",
    "*Note*: This is a challenging question, so be sure to test your code or even use a pen and paper to work through this exercise!\n",
    "\n",
    "# 베이즈 규칙\n",
    "\n",
    "베이즈 규칙은 이 신념과 관련된 관찰 데이터(테스트 데이터 또는 센서 측정값 등)를 통합하여 사전 신념을 개선하는 방법으로 설명될 수 있다는 것을 알고 계실 겁니다. 이 규칙은 다음과 같이 작성됩니다.\n",
    "\n",
    "$$P(A|B) = \\frac{P(B|A)\\cdot P(A)} {P(B)}$$\n",
    "\n",
    "여기서 A는 이벤트이고 B는 관찰된 관련 데이터입니다.\n",
    "\n",
    "다음 퀴즈에서는 세 가지 확률만 주어집니다. `p_A`, `p_B_given_A`, `p_notB_given_notA`. 이는 다음과 같이 표기할 수 있습니다.\n",
    "\n",
    "$$P(A), P(B|A)$$\n",
    "$$P(\\neg B|\\neg A)$$\n",
    "\n",
    "사후 확률을 계산하는 함수를 작성하라는 요청을 받게 됩니다.\n",
    "$$P(A|B)$$\n",
    "\n",
    "*참고*: 이 문제는 어려운 문제이므로 코드를 테스트하거나 펜과 종이를 사용하여 이 연습을 진행하세요!"
   ]
  },
  {
   "cell_type": "markdown",
   "metadata": {},
   "source": [
    "### TODO: Complete `bayes`\n",
    "\n",
    "Complete this function so that it returns the posterior probability for any set of inputs.\n",
    "\n",
    "### TODO: `bayes` 완료\n",
    "\n",
    "이 함수를 완료하여 모든 입력 세트에 대한 사후 확률을 반환합니다."
   ]
  },
  {
   "cell_type": "code",
   "execution_count": null,
   "metadata": {},
   "outputs": [],
   "source": [
    "# Given three input probabilities, complete this function\n",
    "# so that it returns the posterior probability\n",
    "\n",
    "def bayes(p_A, p_B_given_A, p_notB_given_notA):\n",
    "    \n",
    "    ## TODO: Calculate the posterior probability (p_A_given_B)\n",
    "    ## and change this value\n",
    "    ## To do this, we should first find P(B)\n",
    "    \n",
    "    return \n",
    "\n",
    "\n",
    "## TODO: Change these values, run your code with them, and use print \n",
    "## statements to see the output of your function and get feedback\n",
    "p_A = 0\n",
    "p_B_given_A = 0\n",
    "p_notB_given_notA = 0\n",
    "\n",
    "posterior = bayes(p_A, p_B_given_A, p_notB_given_notA)\n",
    "print('Your function returned that the posterior is: ' + str(posterior))"
   ]
  },
  {
   "cell_type": "markdown",
   "metadata": {},
   "source": [
    "### Testing Cell\n",
    "\n",
    "Run this cell and it will compare the output of your function with the correct, expected output.\n",
    "\n",
    "**Your code should pass all tests and work for any valid input values.**\n",
    "\n",
    "### 테스트 셀\n",
    "\n",
    "이 셀을 실행하면 함수의 출력과 올바른 예상 출력이 비교됩니다.\n",
    "\n",
    "**코드는 모든 테스트를 통과해야 하며 모든 유효한 입력 값에 대해 작동해야 합니다.**"
   ]
  },
  {
   "cell_type": "code",
   "execution_count": null,
   "metadata": {},
   "outputs": [],
   "source": [
    "# Test code - do not change\n",
    "import solution\n",
    "\n",
    "test_p_A = 0.4\n",
    "test_p_B_given_A = 0.7\n",
    "test_p_notB_given_notA = 0.9\n",
    "\n",
    "# This line calls your function and stores the output\n",
    "posterior = bayes(test_p_A, test_p_B_given_A, test_p_notB_given_notA)\n",
    "correct_posterior = solution.bayes(test_p_A, test_p_B_given_A, test_p_notB_given_notA)\n",
    "\n",
    "# Assertion, comparison test\n",
    "try:\n",
    "    \n",
    "    assert(abs(posterior - correct_posterior) < 0.0001)\n",
    "    print('That\\'s right!')\n",
    "except:\n",
    "    print ('Your code returned that the posterior is: ' +str(posterior) \n",
    "           + ', which does not match the correct value.')"
   ]
  }
 ],
 "metadata": {
  "language_info": {
   "name": "python"
  }
 },
 "nbformat": 4,
 "nbformat_minor": 2
}
