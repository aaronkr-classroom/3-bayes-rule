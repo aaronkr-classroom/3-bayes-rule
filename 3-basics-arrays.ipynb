{
 "cells": [
  {
   "cell_type": "markdown",
   "metadata": {},
   "source": [
    "# Arrays\n",
    "\n",
    "Arrays are data structures that can contain multiple values, similar to lists in Python, but they only contain one type of data i.e. all integers or all characters, and they are often used to represent a robot's environment. This is easiest to see in an example. Say we have a self-driving car driving on a one-lane road, and near the end of this road is a stop sign, as in the below image.\n",
    "\n",
    "# 배열\n",
    "\n",
    "배열은 파이썬의 리스트와 비슷하게 여러 값을 포함할 수 있는 데이터 구조이지만, 모든 정수 또는 모든 문자와 같이 한 가지 유형의 데이터만 포함하고 종종 로봇의 환경을 나타내는 데 사용됩니다. 이는 예를 들어 가장 쉽게 볼 수 있습니다. 1차선 도로를 주행하는 자율 주행차가 있고, 이 도로의 끝 근처에 아래 이미지와 같이 정지 표지판이 있다고 가정해 보겠습니다.\n",
    "\n",
    "<img src=\"images/road1.png\" width=\"50%\" height=\"50%\">"
   ]
  },
  {
   "cell_type": "markdown",
   "metadata": {
    "collapsed": true
   },
   "source": [
    "### Road Array\n",
    "\n",
    "We can treat this road as an array, and break it up into grid cells for a robot to understand; each grid cell will contain information about the road that we can use to help our car navigate!\n",
    "\n",
    "### 도로 배열\n",
    "\n",
    "우리는 이 도로를 배열로 취급하고 로봇이 이해할 수 있도록 그리드 셀로 나눌 수 있습니다. 각 그리드 셀에는 자동차가 길을 찾는 데 사용할 수 있는 도로에 대한 정보가 포함됩니다!\n",
    "\n",
    "<img src=\"images/numbered_grid2.png\" width=\"50%\" height=\"50%\">"
   ]
  },
  {
   "cell_type": "markdown",
   "metadata": {},
   "source": [
    "In Python code, the road will contain two character values: `'r'` for road and `'s'` for stop sign. Then we can create a program that iterates through this array, checks for the stop sign (the 's') and makes the car stop at the cell *right in front of* (in this case, one cell before) the stop sign.\n",
    "\n",
    "Note that in this demonstration, we'll be using the `numpy` library, which is a Python library that helps us create and manipulate arrays; it's commonly used in a variety of applications including self-driving cars, and we'll see it come up again and again in code.\n",
    "\n",
    "Python 코드에서 도로는 두 개의 문자 값을 포함합니다. 도로의 경우 `'r'`, 정지 표지판의 경우 `'s'`입니다. 그런 다음 이 배열을 반복하고 정지 표지판('s')을 확인한 다음 정지 표지판 *바로 앞*(이 경우 한 칸 전) 셀에서 차를 멈추게 하는 프로그램을 만들 수 있습니다.\n",
    "\n",
    "이 데모에서는 배열을 만들고 조작하는 데 도움이 되는 Python 라이브러리인 `numpy` 라이브러리를 사용합니다. 자율 주행 자동차를 포함한 다양한 애플리케이션에서 일반적으로 사용되며 코드에서 계속해서 나타나는 것을 볼 수 있습니다.\n"
   ]
  },
  {
   "cell_type": "code",
   "execution_count": null,
   "metadata": {
    "collapsed": true
   },
   "outputs": [],
   "source": [
    "import numpy as np\n",
    "\n",
    "# A one-lane road, represented by an array\n",
    "# Here is a 1x7 road\n",
    "road = np.array(['r', 'r', 'r', 'r', 'r', 's', 'r'])"
   ]
  },
  {
   "cell_type": "markdown",
   "metadata": {},
   "source": [
    "### Print out some information about the array\n",
    "\n",
    "### 배열에 대한 정보를 출력합니다"
   ]
  },
  {
   "cell_type": "code",
   "execution_count": null,
   "metadata": {},
   "outputs": [],
   "source": [
    "# Print out some information about this road\n",
    "print('The length of this array is: ' + str(len(road)))"
   ]
  },
  {
   "cell_type": "markdown",
   "metadata": {},
   "source": [
    "### Read the values in an array\n",
    "\n",
    "### 배열의 값을 읽습니다"
   ]
  },
  {
   "cell_type": "code",
   "execution_count": null,
   "metadata": {},
   "outputs": [],
   "source": [
    "# Access the first index and read its value\n",
    "value = road[0]\n",
    "print('\\n')\n",
    "print('Value at index [0] = ' +str(value))\n",
    "\n",
    "# Read the last item in the array\n",
    "# A negative index moves from the end of the list backwards!\n",
    "value_end = road[-1]\n",
    "print('\\n')\n",
    "print('Value at index [-1] = ' +str(value_end))\n",
    "\n",
    "# Compare first and last values\n",
    "equal = (value == value_end)\n",
    "print('\\n')\n",
    "print('Are the first and last values equal? ' +str(equal))"
   ]
  },
  {
   "cell_type": "markdown",
   "metadata": {
    "collapsed": true
   },
   "source": [
    "## Array Iteration\n",
    "\n",
    "Iterating, or looping, through an array is a useful way of reading all the information it contains sequentially. The following code demonstrates how to iterate through an entire array and how to iterate until you find a certain location.\n",
    "\n",
    "## 배열 반복\n",
    "\n",
    "배열을 반복하거나 루핑하는 것은 배열에 포함된 모든 정보를 순차적으로 읽는 유용한 방법입니다. 다음 코드는 전체 배열을 반복하는 방법과 특정 위치를 찾을 때까지 반복하는 방법을 보여줍니다."
   ]
  },
  {
   "cell_type": "code",
   "execution_count": null,
   "metadata": {},
   "outputs": [],
   "source": [
    "import numpy as np\n",
    "\n",
    "# A 1x7 road\n",
    "road = np.array(['r', 'r', 'r', 'r', 'r', 's', 'r'])\n",
    "\n",
    "# Iterate through the array\n",
    "length = len(road)\n",
    "for index in range(0, length):\n",
    "    # Find and store the value at each index\n",
    "    value = road[index]\n",
    "    # Print a new line and the value\n",
    "    print('road['+str(index)+'] = '+str(value))\n"
   ]
  },
  {
   "cell_type": "code",
   "execution_count": null,
   "metadata": {},
   "outputs": [],
   "source": [
    "# Iterate and exit the loop (return) once you reach index 3 - the middle\n",
    "for index in range(0, length):\n",
    "    # Check if index is equal to 3\n",
    "    print(str(index))\n",
    "    if index == 3:\n",
    "        print('We\\'ve reached the middle of the road and we\\'re leaving the loop!')\n",
    "        break"
   ]
  },
  {
   "cell_type": "markdown",
   "metadata": {},
   "source": [
    "# Iteration and Stopping\n",
    "\n",
    "Consider the same road as in the last demonstration. Now that we know how to read information from an array that represents the road, we want to act on this information! It will be up to you to tell the car to stop if it's right in front of the stop sign.\n",
    "\n",
    "# 반복 및 정지\n",
    "\n",
    "마지막 데모와 같은 도로를 생각해 보세요. 이제 도로를 나타내는 배열에서 정보를 읽는 방법을 알았으므로 이 정보에 따라 행동하고 싶습니다! 정지 표지판 바로 앞에 있는 경우 차에 정지하라고 말하는 것은 여러분에게 달려 있습니다.\n",
    "\n",
    "<img src=\"images/stop_4.png\" width=\"50%\" height=\"50%\" >\n",
    "\n",
    "### The road (길)"
   ]
  },
  {
   "cell_type": "code",
   "execution_count": null,
   "metadata": {
    "collapsed": true
   },
   "outputs": [],
   "source": [
    "import numpy as np\n",
    "\n",
    "# The 1x7 road\n",
    "road = np.array(['r', 'r', 'r', 'r', 'r', 's', 'r'])"
   ]
  },
  {
   "cell_type": "markdown",
   "metadata": {},
   "source": [
    "### TODO: Complete  `find_stop_index`\n",
    "\n",
    "Complete this function so that it returns the index of the cell that is *right before* the stop sign (ex. 0, if the stop sign is at index 1)!\n",
    "\n",
    "### TODO: `find_stop_index` 완료\n",
    "\n",
    "이 함수를 완료하여 정지 표지판 *바로 앞에 있는* 셀의 인덱스를 반환하도록 하세요(예: 정지 표지판이 인덱스 1에 있는 경우 0)!"
   ]
  },
  {
   "cell_type": "code",
   "execution_count": null,
   "metadata": {},
   "outputs": [],
   "source": [
    "# This function takes in the road and determines where to stop\n",
    "def find_stop_index(road):\n",
    "    ## TODO: Iterate through the road array\n",
    "    ## TODO: Check if a stop sign ('s') is found in the array\n",
    "    ## If one is, break out of your iteration\n",
    "    ## and return the value of the index that is *right before* the stop sign\n",
    "    ## Change the stop_index value\n",
    "    stop_index = 0\n",
    "    \n",
    "    \n",
    "    \n",
    "    return stop_index\n"
   ]
  },
  {
   "cell_type": "markdown",
   "metadata": {},
   "source": [
    "### Testing Cell\n",
    "\n",
    "Run this cell and it will compare the output of your function with the correct, expected output.\n",
    "\n",
    "**Assertions**\n",
    "\n",
    "This cell is using something called `assertions` in Python, which are statements that check the validity of code. In this case, the first assertion checks that the output of your function: `stop`, is equal to the expected output: `correct_stop` and then prints out feedback!\n",
    "\n",
    "**Your code should pass both tests and work for any 1D road.**\n",
    "\n",
    "### 테스트 셀\n",
    "\n",
    "이 셀을 실행하면 함수의 출력과 올바른 예상 출력이 비교됩니다.\n",
    "\n",
    "**어설션**\n",
    "\n",
    "이 셀은 Python에서 `어설션`이라는 것을 사용하는데, 이는 코드의 유효성을 검사하는 명령문입니다. 이 경우 첫 번째 어설션은 함수의 출력인 `stop`이 예상 출력인 `correct_stop`과 같은지 확인한 다음 피드백을 출력합니다!\n",
    "\n",
    "**코드는 두 테스트를 모두 통과해야 하며 모든 1D 도로에서 작동해야 합니다.**"
   ]
  },
  {
   "cell_type": "code",
   "execution_count": null,
   "metadata": {},
   "outputs": [],
   "source": [
    "# Test code - do not change\n",
    "import array_solution\n",
    "\n",
    "# This line calls the stop function and stores the output\n",
    "stop = find_stop_index(road)\n",
    "correct_stop = array_solution.stop_test(road)\n",
    "\n",
    "# Assertion, comparison test\n",
    "try:\n",
    "    assert(stop == correct_stop)\n",
    "    print('That\\'s right!')\n",
    "except:\n",
    "    print ('Your code returned that the stop index is: ' +str(stop) \n",
    "           + ', which does not match the correct value: ' +str(correct_stop))\n",
    "\n",
    "# Test 2\n",
    "stop2 = find_stop_index(array_solution.test_road)\n",
    "correct_stop2 = array_solution.stop_test(array_solution.test_road)\n",
    "\n",
    "try:\n",
    "    assert(stop2 == correct_stop2)    \n",
    "    print('You passed the second test!')\n",
    "except:\n",
    "    print ('For test 2, your code returned that the stop index is: ' +str(stop2) \n",
    "           + ', which does not match the correct value.')"
   ]
  }
 ],
 "metadata": {
  "anaconda-cloud": {},
  "kernelspec": {
   "display_name": "Python 3",
   "language": "python",
   "name": "python3"
  },
  "language_info": {
   "codemirror_mode": {
    "name": "ipython",
    "version": 3
   },
   "file_extension": ".py",
   "mimetype": "text/x-python",
   "name": "python",
   "nbconvert_exporter": "python",
   "pygments_lexer": "ipython3",
   "version": "3.6.3"
  }
 },
 "nbformat": 4,
 "nbformat_minor": 1
}
