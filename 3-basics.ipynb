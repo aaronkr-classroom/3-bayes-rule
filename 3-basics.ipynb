{
 "cells": [
  {
   "cell_type": "markdown",
   "metadata": {},
   "source": [
    "## Instructions\n",
    "1. Read through the code below and come up with a prediction for what will happen when you run it.\n",
    "\n",
    "2. Run the code by selecting the cell below and pressing `Ctrl + Enter` (or `Shift + Enter`).\n",
    "\n",
    "3. Modify the line that says `p_heads = 0.75` so that `p_heads` has a different value (0.1 for example). What do you think will change when you run the code?\n",
    "\n",
    "4. Run the code and compare the output to what you expected.\n",
    "\n",
    "## 지침\n",
    "1. 아래 코드를 읽고 실행할 때 어떤 일이 일어날지 예측해 보세요.\n",
    "\n",
    "2. 아래 셀을 선택하고 `Ctrl + Enter`(또는 `Shift + Enter`)를 눌러 코드를 실행합니다.\n",
    "\n",
    "3. `p_heads = 0.75`라는 줄을 수정하여 `p_heads`가 다른 값(예: 0.1)을 갖도록 합니다. 코드를 실행하면 무엇이 바뀔 것 같나요?\n",
    "\n",
    "4. 코드를 실행하고 출력을 예상한 것과 비교합니다."
   ]
  },
  {
   "cell_type": "code",
   "execution_count": null,
   "metadata": {},
   "outputs": [],
   "source": [
    "# Here we assign a value of 0.5 to the variable named p_heads\n",
    "# and then use a print statement.\n",
    "# 여기서 우리는 p_heads라는 변수에 0.5라는 값을 할당합니다.\n",
    "# 그리고 print 문을 사용합니다.\n",
    "p_heads = 0.75\n",
    "print(\"The probability of heads is\", p_heads)\n",
    "\n",
    "# Here we assign a value to p_tails. This is done by taking the \n",
    "# compliment of p_heads.\n",
    "# 여기서 우리는 p_tails에 값을 할당합니다. 이는 p_heads의\n",
    "# 보완을 취함으로써 수행됩니다.\n",
    "p_tails = 1.0 - p_heads\n",
    "print(\"The probability of tails is\", p_tails)"
   ]
  },
  {
   "cell_type": "markdown",
   "metadata": {},
   "source": [
    "## Data Types\n",
    "\n",
    "Explore how **strings**, **numbers**, and **booleans** are defined in Python.\n",
    "\n",
    "Read through the code and try to predict what each cell's output will look like *before* you run that cell.\n",
    "\n",
    "## 데이터 유형\n",
    "\n",
    "Python에서 **문자열**, **숫자**, **부울**이 어떻게 정의되는지 알아보세요.\n",
    "\n",
    "코드를 읽고 각 셀의 출력이 셀을 실행하기 *전에* 어떻게 보일지 예측해보세요."
   ]
  },
  {
   "cell_type": "code",
   "execution_count": null,
   "metadata": {},
   "outputs": [],
   "source": [
    "# STRINGS\n",
    "#\n",
    "# In this section you define several variables. These are all defined\n",
    "# to be strings. Note that there are several ways to define a string.\n",
    "# \n",
    "print(\"STRINGS\") # Prints the word STRINGS as the output\n",
    "\n",
    "# Declaring strings with double quotes\n",
    "my_string_1 = \"hello\"\n",
    "\n",
    "# Declaring strings with single quotes\n",
    "my_string_2 = 'world'\n",
    "\n",
    "# Use either three double quotes or three single quotes\n",
    "# note in this case you can have single quotes of either type\n",
    "# inside the string. This is a powerful feature!\n",
    "my_multiline_string = \"\"\"\n",
    "\n",
    "Dear World,\n",
    "\n",
    "Hello. I am a multiline python string.\n",
    "I'm enclosed in triple quotes. I'd write\n",
    "them here, but that would end the string!\n",
    "\n",
    "I know! I'll use a slash as an escape character.\n",
    "\n",
    "Triple quotes look like this: \\\"\\\"\\\" \n",
    "\n",
    "Sincerely,\n",
    "Python\n",
    "\"\"\"\n",
    "\n",
    "newline_character = \"\\n\"\n",
    "print(\"Now run the cell below to see these strings printed!\")"
   ]
  },
  {
   "cell_type": "code",
   "execution_count": null,
   "metadata": {},
   "outputs": [],
   "source": [
    "print(my_string_1, my_string_2)\n",
    "print(my_multiline_string)\n",
    "print(newline_character)\n",
    "print(\"-----------\")\n",
    "print(newline_character)"
   ]
  },
  {
   "cell_type": "code",
   "execution_count": null,
   "metadata": {},
   "outputs": [],
   "source": [
    "# NUMBERS AND BOOLEANS\n",
    "print(\"NUMBERS\")\n",
    "my_float    = 0.5\n",
    "my_integer  = 7\n",
    "my_negative = -3.5 \n",
    "my_fraction = 1/2\n",
    "\n",
    "# what do you think THIS line of code will assign to the variable\n",
    "# does_half_equal_point_five?\n",
    "does_half_equal_point_five = (my_fraction == my_float)"
   ]
  },
  {
   "cell_type": "code",
   "execution_count": null,
   "metadata": {},
   "outputs": [],
   "source": [
    "print(\"The absolute value of\", my_negative, \"is\", abs(my_negative))\n",
    "print(my_integer, \"squared is equal to\", my_integer ** 2)\n",
    "print(\"Does\", my_fraction, \"equal\", my_float, \"?\", does_half_equal_point_five)"
   ]
  },
  {
   "cell_type": "markdown",
   "metadata": {},
   "source": [
    "## Control Flow in Python\n",
    "\n",
    "The code below demonstrates how the flow of program execution can be controlled using statements like `if`, `elif` and `else`.\n",
    "\n",
    "## 파이썬에서의 제어 흐름\n",
    "\n",
    "아래 코드는 `if`, `elif`, `else`와 같은 문장을 사용하여 프로그램 실행 흐름을 제어하는 ​​방법을 보여줍니다."
   ]
  },
  {
   "cell_type": "code",
   "execution_count": null,
   "metadata": {},
   "outputs": [],
   "source": [
    "Y = 7\n",
    "# Check that 5 < Y and Y < 10\n",
    "if 5 < Y < 10:\n",
    "    print(\"Y is between 5 and 10\")\n",
    "else:\n",
    "    print(\"Y is not between 5 and 10\")"
   ]
  },
  {
   "cell_type": "code",
   "execution_count": null,
   "metadata": {},
   "outputs": [],
   "source": [
    "X = 4\n",
    "if X < 5:\n",
    "    print(\"X is a small number\")\n",
    "elif X < 20:\n",
    "    print(\"X is a medium sized number\")\n",
    "else:\n",
    "    print(\"X is a big number\")"
   ]
  },
  {
   "cell_type": "code",
   "execution_count": null,
   "metadata": {},
   "outputs": [],
   "source": [
    "if True:\n",
    "    print(\"True is always True!\")"
   ]
  },
  {
   "cell_type": "code",
   "execution_count": null,
   "metadata": {},
   "outputs": [],
   "source": [
    "if False:\n",
    "    print(\"This will never be printed\")"
   ]
  },
  {
   "cell_type": "markdown",
   "metadata": {},
   "source": [
    "## For Loops\n",
    "\n",
    "The code below demonstrates two ways of looping through the numbers 0,1,2,3,4,5\n",
    "\n",
    "## For 루프\n",
    "\n",
    "아래 코드는 숫자 0,1,2,3,4,5를 반복하는 두 가지 방법을 보여줍니다."
   ]
  },
  {
   "cell_type": "code",
   "execution_count": null,
   "metadata": {},
   "outputs": [],
   "source": [
    "print(\"1 - demonstrating for loop\")\n",
    "# Python allows you loop over a list\n",
    "for i in [0,1,2,3,4,5]:\n",
    "    print(i)"
   ]
  },
  {
   "cell_type": "code",
   "execution_count": null,
   "metadata": {},
   "outputs": [],
   "source": [
    "print(\"2 - demonstrating for loop with range()\")\n",
    "# If you want to loop until a specified number, use range(number)\n",
    "for i in range(6):\n",
    "    print(i)"
   ]
  },
  {
   "cell_type": "markdown",
   "metadata": {},
   "source": [
    "### The `range` function\n",
    "\n",
    "The `range` function is one you'll probably use a lot - often in conjunction with a for loop. The code below shows how you can use the range function to print out a multiplication table.\n",
    "\n",
    "Read through the code below. What is the biggest number you expect to see printed? \n",
    "\n",
    "### `range` 함수\n",
    "\n",
    "`range` 함수는 아마도 많이 사용할 함수 중 하나일 것입니다. 종종 for 루프와 함께 사용합니다. 아래 코드는 range 함수를 사용하여 곱셈표를 출력하는 방법을 보여줍니다.\n",
    "\n",
    "아래 코드를 읽어보세요. 출력될 것으로 예상되는 가장 큰 숫자는 얼마입니까?"
   ]
  },
  {
   "cell_type": "code",
   "execution_count": null,
   "metadata": {},
   "outputs": [],
   "source": [
    "# This is an example of a nested loop\n",
    "# Nested loops are loops inside of loops\n",
    "# the left_num will increment slower than the right_num\n",
    "# How many times will right_num perform full loops?\n",
    "for left_num in range(5):\n",
    "    for right_num in range(5):\n",
    "        product = left_num * right_num\n",
    "        print(left_num, \"x\", right_num, \"=\", product)"
   ]
  },
  {
   "cell_type": "markdown",
   "metadata": {},
   "source": [
    "## Lists and Loops\n",
    "\n",
    "The code below shows some ways of using python **lists** (known as **arrays** in many languages).  Note how these lists are \"sliced\" from index i to j using `my_list[i:j]` notation.\n",
    "\n",
    "## 리스트와 루프\n",
    "\n",
    "아래 코드는 파이썬 **리스트**(많은 언어에서 **배열**이라고 함)를 사용하는 몇 가지 방법을 보여줍니다. 이러한 리스트가 `my_list[i:j]` 표기법을 사용하여 인덱스 i에서 j로 \"슬라이스\"되는 방식에 유의하세요."
   ]
  },
  {
   "cell_type": "code",
   "execution_count": null,
   "metadata": {},
   "outputs": [],
   "source": [
    "# How to print a list structure\n",
    "my_list = [1, 2, 3, \"a\", \"b\", \"c\"]\n",
    "print(\"my_list is:\", my_list)"
   ]
  },
  {
   "cell_type": "code",
   "execution_count": null,
   "metadata": {},
   "outputs": [],
   "source": [
    "# Prints each element of a list individually\n",
    "print(\"Looping through a list...\")\n",
    "for item in my_list:\n",
    "    print(\"item is\", item)"
   ]
  },
  {
   "cell_type": "code",
   "execution_count": null,
   "metadata": {},
   "outputs": [],
   "source": [
    "# Prints the number of elements in a list\n",
    "print(\"The len function is important!\")\n",
    "num_elements = len(my_list)\n",
    "print(\"my_list has\", num_elements, \"elements\")\n",
    "\n",
    "# Could also be done with out the intermediate variable\n",
    "print(\"The len function is important!\")\n",
    "print(\"my_list has\", len(my_list), \"elements\")"
   ]
  },
  {
   "cell_type": "code",
   "execution_count": null,
   "metadata": {},
   "outputs": [],
   "source": [
    "# Using range to loop through a list by index\n",
    "print(\"A less great way to loop through a list...\")\n",
    "for index in range(len(my_list)):\n",
    "    item = my_list[index] # accessing an element in a list!\n",
    "    print(\"item is\", item)"
   ]
  },
  {
   "cell_type": "code",
   "execution_count": null,
   "metadata": {},
   "outputs": [],
   "source": [
    "# Looping through a partial list\n",
    "print(\"Slicing a list from beginning...\")\n",
    "for item in my_list[:3]:\n",
    "    print(\"item is\", item)"
   ]
  },
  {
   "cell_type": "code",
   "execution_count": null,
   "metadata": {},
   "outputs": [],
   "source": [
    "# Looping through a partial list again\n",
    "print(\"Slicing a list to the end...\")\n",
    "for item in my_list[3:]:\n",
    "    print(\"item is\", item)"
   ]
  },
  {
   "cell_type": "code",
   "execution_count": null,
   "metadata": {},
   "outputs": [],
   "source": [
    "# Looping through a partial list again\n",
    "print(\"Slicing a list in the middle...\")\n",
    "for item in my_list[2:4]:\n",
    "    print(\"item is\", item)"
   ]
  },
  {
   "cell_type": "code",
   "execution_count": null,
   "metadata": {},
   "outputs": [],
   "source": [
    "print(\"Enumerating a list...\")\n",
    "for i, item in enumerate(my_list):\n",
    "    print(\"item number\", i, \"is\", item)"
   ]
  },
  {
   "cell_type": "code",
   "execution_count": null,
   "metadata": {},
   "outputs": [],
   "source": [
    "print(\"Another way to enumerate using a list 'method'...\")\n",
    "for item in my_list:\n",
    "    index = my_list.index(item)\n",
    "    print(\"item\", item, \"has index\", index)"
   ]
  },
  {
   "cell_type": "markdown",
   "metadata": {},
   "source": [
    "## List Comprehensions\n",
    "\n",
    "One of Python's most \"Pythonic\" features is the **list comprehension**. It's a way of creating a list in a compact and, once you get used to them, readable way. See the demonstrations below.\n",
    "\n",
    "## 리스트 컴프리헨션\n",
    "\n",
    "Python의 가장 \"Pythonic한\" 기능 중 하나는 **리스트 컴프리헨션**입니다. 이는 간결하고, 익숙해지면 읽기 쉬운 방식으로 리스트를 만드는 방법입니다. 아래 데모를 참조하세요."
   ]
  },
  {
   "cell_type": "code",
   "execution_count": null,
   "metadata": {},
   "outputs": [],
   "source": [
    "# The preferred 'pythonic' way to create a list\n",
    "numbers_0_to_9 = [x for x in range(10)]\n",
    "print(\"Numbers 0 to 9\", numbers_0_to_9)"
   ]
  },
  {
   "cell_type": "code",
   "execution_count": null,
   "metadata": {},
   "outputs": [],
   "source": [
    "# The above is equivalent to the following just more compact:\n",
    "numbers_0_to_9 = []\n",
    "for x in range(10):\n",
    "    numbers_0_to_9.append(x)\n",
    "print(\"Numbers 0 to 9\", numbers_0_to_9)"
   ]
  },
  {
   "cell_type": "code",
   "execution_count": null,
   "metadata": {},
   "outputs": [],
   "source": [
    "# You can also choose to do computation / flow control when generating\n",
    "# lists\n",
    "squares = [x * x for x in range(10)]\n",
    "print(\"Squares       \", squares)"
   ]
  },
  {
   "cell_type": "code",
   "execution_count": null,
   "metadata": {},
   "outputs": [],
   "source": [
    "# note - this example uses the \"modulo\" operator\n",
    "odds = [x for x in range(10) if x % 2 == 1]\n",
    "print(\"Odds          \", odds)"
   ]
  },
  {
   "cell_type": "markdown",
   "metadata": {},
   "source": [
    "### Advanced List Comprehensions [optional]\n",
    "\n",
    "If you're already an advanced programmer, you may be interested in some of these more advanced list comprehensions. They're one of the things that experienced Python users learn to love about Python.\n",
    "\n",
    "This example also uses a data type called a named tuple which is similar to a `struct` data type in other languages.\n",
    "\n",
    "### 고급 리스트 컴프리헨션 [선택 사항]\n",
    "\n",
    "이미 고급 프로그래머라면 이러한 고급 리스트 컴프리헨션에 관심이 있을 수 있습니다. 이는 숙련된 Python 사용자가 Python에 대해 좋아하는 것 중 하나입니다.\n",
    "\n",
    "이 예제는 다른 언어의 `struct` 데이터 유형과 유사한 명명된 튜플이라는 데이터 유형을 사용합니다."
   ]
  },
  {
   "cell_type": "code",
   "execution_count": null,
   "metadata": {},
   "outputs": [],
   "source": [
    "# Import the module collections and be able to access namedtuple\n",
    "# wihtout having to write collections.namedtuple each time.\n",
    "from collections import namedtuple\n",
    "# Create a tuple of class 'Person'\n",
    "Person = namedtuple(\"Person\", [\"name\", \"age\", \"gender\"])\n",
    "\n",
    "# Build a list of people by using Person\n",
    "people = [\n",
    "    Person(\"Andy\", 30, \"m\"),\n",
    "    Person(\"Ping\", 1, \"m\"), \n",
    "    Person(\"Tina\", 32, \"f\"),\n",
    "    Person(\"Abby\", 14, \"f\"),\n",
    "    Person(\"Adah\", 13, \"f\"),\n",
    "    Person(\"Sebastian\", 42, \"m\"),\n",
    "    Person(\"Carol\" , 68, \"f\"),\n",
    "]\n",
    "\n",
    "# first, let's show how this namedtuple works.\n",
    "# Get the first entry in the list (which is Andy from above)\n",
    "andy = people[0]\n",
    "\n",
    "# From here, you can access andy like it was a class with attributes\n",
    "# name, age, and gender (as seeon from the namedtuple)\n",
    "print(\"name:  \", andy.name)\n",
    "print(\"age:   \", andy.age)\n",
    "print(\"gender:\", andy.gender)"
   ]
  },
  {
   "cell_type": "code",
   "execution_count": null,
   "metadata": {},
   "outputs": [],
   "source": [
    "# now let's show what we can do with a list comprehension\n",
    "male_names = [person.name for person in people if person.gender==\"m\"]\n",
    "print(\"Male names:\", male_names)"
   ]
  },
  {
   "cell_type": "code",
   "execution_count": null,
   "metadata": {},
   "outputs": [],
   "source": [
    "# Create a list of names where there age \n",
    "teen_names = [p.name for p in people if 13 <= p.age <= 18 ]\n",
    "print(\"Teen names:\", teen_names)"
   ]
  },
  {
   "cell_type": "markdown",
   "metadata": {},
   "source": [
    "## Python's `random` Library\n",
    "\n",
    "The code below demonstrates how a library (like `random`) can be **imported** and then used.\n",
    "\n",
    "Run the cells below in order.\n",
    "\n",
    "## Python의 `random` 라이브러리\n",
    "\n",
    "아래 코드는 라이브러리(예: `random`)를 **가져와서** 사용하는 방법을 보여줍니다.\n",
    "\n",
    "아래 셀을 순서대로 실행합니다."
   ]
  },
  {
   "cell_type": "code",
   "execution_count": null,
   "metadata": {},
   "outputs": [],
   "source": [
    "# `random` is a Python \"module\". It provides functionality associated\n",
    "# with randomness / probability. For now you don't need to know exactly\n",
    "# what is happening when we write `import random as rd`, instead focus \n",
    "# on how we USE this module.\n",
    "import random as rd"
   ]
  },
  {
   "cell_type": "code",
   "execution_count": null,
   "metadata": {},
   "outputs": [],
   "source": [
    "# Call the FUNCTION named random 3 times and assign the result of each\n",
    "# call to a variable.\n",
    "a = rd.random()\n",
    "b = rd.random()\n",
    "c = rd.random()\n",
    "print(\"a is\", a)\n",
    "print(\"b is\", b)\n",
    "print(\"c is\", c)\n",
    "\n",
    "# random isn't the only function in the random module.\n",
    "# Do a google search for \"python random library\" or \n",
    "# go here: https://docs.python.org/3/library/random.html\n",
    "# to learn more.\n",
    "\n",
    "print(\"Now keep pressing Ctrl+Enter to run this cell many times!\")\n",
    "print(\"Notice how the values of a,b, and c keep changing!\")"
   ]
  },
  {
   "cell_type": "markdown",
   "metadata": {},
   "source": [
    "## Functions\n",
    "\n",
    "You just saw code that looks like the code below. Hopefully you found that by changing the value of num_trials you could also change how close the overall \"heads percentage\" was to 50%. By running more and more trials, you would get closer and closer to a consistent 50%.\n",
    "\n",
    "## 함수\n",
    "\n",
    "아래 코드와 비슷한 코드를 방금 보셨을 겁니다. num_trials 값을 변경하면 전체 \"헤드 백분율\"이 50%에 얼마나 가까운지도 변경할 수 있다는 것을 알았으면 합니다. 시도를 점점 더 많이 실행하면 일관된 50%에 점점 더 가까워질 것입니다."
   ]
  },
  {
   "cell_type": "code",
   "execution_count": null,
   "metadata": {},
   "outputs": [],
   "source": [
    "# Import the random module and reference it as rd\n",
    "import random as rd\n",
    "\n",
    "num_trials = 100 # Sets the number of flips\n",
    "heads = 0 # A counter for the number of heads\n",
    "tails = 0 # A counter for the number of tails\n",
    "p_heads = 0.5 # The probability for heads\n",
    "\n",
    "# Simulate coin flips up to the num_trials specified\n",
    "for i in range(num_trials):\n",
    "    # Collect a random number between [0,1]\n",
    "    random_number = rd.random()\n",
    "    # If the number is less than heads count it as heads\n",
    "    # Otherwise, count it as tails\n",
    "    if random_number < p_heads:\n",
    "        heads = heads + 1\n",
    "    else:\n",
    "        tails += 1"
   ]
  },
  {
   "cell_type": "markdown",
   "metadata": {},
   "source": [
    "Now, we're going to **encapsulate** this code by putting it into a function we define. The code below shows how a function is **defined** and **called** in Python.\n",
    "\n",
    "As you read through the code below, pay attention to the following:\n",
    "\n",
    "1. **Whitespace / indentation**. Many programming languages use braces {}, parentheses (), brackets <>, etc... to delimit a block of code. Python does not! \n",
    "2. **Defining vs. Calling a function**. All the code between lines 3-14 is the *definition* of `simulate_coin_flips` and line 16 shows how you *call* `simulate_coin_flips`.\n",
    "\n",
    "이제 이 코드를 정의한 함수에 넣어 **캡슐화**할 것입니다. 아래 코드는 Python에서 함수가 **정의**되고 **호출**되는 방식을 보여줍니다.\n",
    "\n",
    "아래 코드를 읽으면서 다음 사항에 주의하세요.\n",
    "\n",
    "1. **공백/들여쓰기**. 많은 프로그래밍 언어는 코드 블록을 구분하기 위해 중괄호 {}, 괄호 (), 대괄호 <> 등을 사용합니다. Python은 그렇지 않습니다!\n",
    "2. **함수 정의 대 호출**. 3-14행 사이의 모든 코드는 `simulate_coin_flips`의 *정의*이고 16행은 `simulate_coin_flips`를 *호출*하는 방법을 보여줍니다."
   ]
  },
  {
   "cell_type": "code",
   "execution_count": null,
   "metadata": {},
   "outputs": [],
   "source": [
    "# Import the random module and reference it as rd\n",
    "import random as rd\n",
    "\n",
    "def simulate_coin_flips(num_trials):\n",
    "    '''\n",
    "    A function to simulate coin flips\n",
    "    \n",
    "    Args:\n",
    "        num_trials (int): The number of coin flip \n",
    "                          trials to simulate\n",
    "    Returns:\n",
    "        int: The percentage of heads from the trials\n",
    "    '''\n",
    "    heads = 0 # A counter for the number of heads\n",
    "    tails = 0 # A counter for the number of tails\n",
    "    p_heads = 0.5 # The probability for heads\n",
    "\n",
    "    # Simulate coin flips up to the num_trials specified\n",
    "    for i in range(num_trials):\n",
    "        # Collect a random number between [0,1]\n",
    "        random_number = rd.random()\n",
    "        # If the number is less than heads count it as heads\n",
    "        # Otherwise, count it as tails\n",
    "        if random_number < p_heads:\n",
    "            heads = heads + 1\n",
    "        else:\n",
    "            tails += 1\n",
    "    # Calculate the percentage of heads based on the number of \n",
    "    # heads and trials\n",
    "    percent_heads = heads / num_trials\n",
    "    return percent_heads\n",
    "    \n",
    "percentage = simulate_coin_flips(200) # calling the function\n",
    "print(percentage)# Import the random module and reference it as rd"
   ]
  },
  {
   "cell_type": "markdown",
   "metadata": {},
   "source": [
    "You now have a new tool you can use! If you want to try calling this function with different values for num_trials, you can.\n",
    "\n",
    "이제 사용할 수 있는 새로운 도구가 생겼습니다! num_trials에 대해 다른 값으로 이 함수를 호출해 보고 싶다면, 그렇게 할 수 있습니다."
   ]
  },
  {
   "cell_type": "code",
   "execution_count": null,
   "metadata": {},
   "outputs": [],
   "source": [
    "print(simulate_coin_flips(100))"
   ]
  },
  {
   "cell_type": "code",
   "execution_count": null,
   "metadata": {},
   "outputs": [],
   "source": [
    "print(simulate_coin_flips(10000))"
   ]
  },
  {
   "cell_type": "code",
   "execution_count": null,
   "metadata": {},
   "outputs": [],
   "source": [
    "print(simulate_coin_flips(1000000))"
   ]
  }
 ],
 "metadata": {
  "language_info": {
   "name": "python"
  }
 },
 "nbformat": 4,
 "nbformat_minor": 2
}
