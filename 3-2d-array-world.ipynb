{
 "cells": [
  {
   "cell_type": "markdown",
   "metadata": {},
   "source": [
    "# The Robot World\n",
    "\n",
    "A robot, much like you, perceives the world through its \"senses.\" For example, self-driving cars use video, radar, and Lidar, to observe the world around them. As cars gather data, they build up a 3D world of observations that tells the car where it is, where other objects (like trees, pedestrians, and other vehicles) are, and where it should be going! \n",
    "\n",
    "In this section, we'll be working with a 2D representation of the world for simplicity, and because two dimensions are often all you'll need to solve a certain problem.\n",
    "\n",
    "# 로봇 세계\n",
    "\n",
    "로봇은 여러분과 마찬가지로 \"감각\"을 통해 세상을 인식합니다. 예를 들어, 자율 주행 자동차는 비디오, 레이더, 라이더를 사용하여 주변 세계를 관찰합니다. 자동차가 데이터를 수집하면서 자동차의 위치, 다른 물체(나무, 보행자, 다른 차량 등)가 있는 위치, 그리고 가야 할 위치를 알려주는 3D 관찰 세계를 구축합니다!\n",
    "\n",
    "이 섹션에서는 단순화를 위해 2D 세계 표현으로 작업할 것입니다. 그리고 특정 문제를 해결하는 데 종종 2차원만 있으면 되기 때문입니다.\n",
    "\n",
    "<img src=\"images/lidar.png\" width=\"50%\" height=\"50%\">"
   ]
  },
  {
   "cell_type": "markdown",
   "metadata": {},
   "source": [
    "### 2D Arrays \n",
    "\n",
    "This demonstration shows how to represent a robot's world as a 2D array of observations, in this case, we'll work with a simple example that uses  integer variables to represent whether there is (1) or is not (0) a tree present at that location on the grid.\n",
    "\n",
    "For example, a robot that sees a 2x4 world may see this 2D array:\n",
    "\n",
    "```python\n",
    "[[0, 0, 0, 1],\n",
    " [1, 0, 0, 0]]\n",
    "```\n",
    "\n",
    "Which indicates that there are only two trees: one at the top rightmost point in its world, and one at the leftmost bottom. In fact the coordinates or indices of these tree locations are [0, 3] for the top-right corner and [1, 0] for the bottom-left. This has to do with the way indices are counted in Python. A graphical representation is shown below.\n",
    "\n",
    "### 2D 배열\n",
    "\n",
    "이 데모에서는 로봇의 세계를 관찰의 2D 배열로 표현하는 방법을 보여줍니다. 이 경우, 정수 변수를 사용하여 그리드의 해당 위치에 트리가 있는지(1) 또는 없는지(0)를 나타내는 간단한 예제를 살펴보겠습니다.\n",
    "\n",
    "예를 들어, 2x4 세계를 보는 로봇은 이 2D 배열을 볼 수 있습니다.\n",
    "\n",
    "```python\n",
    "[[0, 0, 0, 1],\n",
    "[1, 0, 0, 0]]\n",
    "```\n",
    "\n",
    "이것은 두 개의 트리만 있음을 나타냅니다. 하나는 세계의 가장 오른쪽 위 지점에 있고 다른 하나는 가장 왼쪽 아래에 있습니다. 사실 이러한 트리 위치의 좌표 또는 인덱스는 오른쪽 위 모서리의 경우 [0, 3]이고 왼쪽 아래의 경우 [1, 0]입니다. 이는 Python에서 인덱스를 계산하는 방식과 관련이 있습니다. 그래픽 표현은 아래와 같습니다.\n",
    "\n",
    "<img src=\"images/2D_trees.png\" width=\"50%\" height=\"50%\">"
   ]
  },
  {
   "cell_type": "markdown",
   "metadata": {},
   "source": [
    "Note that in this demonstration, we'll be using the `numpy` library again, which is a Python library that helps us create and manipulate arrays.\n",
    "\n",
    "### Define the 2D world\n",
    "\n",
    "이 데모에서는 배열을 만들고 조작하는 데 도움이 되는 Python 라이브러리인 `numpy` 라이브러리를 다시 사용할 것입니다.\n",
    "\n",
    "### 2D 세계 정의"
   ]
  },
  {
   "cell_type": "code",
   "execution_count": null,
   "metadata": {
    "collapsed": true
   },
   "outputs": [],
   "source": [
    "import numpy as np\n",
    "\n",
    "# A simple robot world can be defined by a 2D array\n",
    "# Here is a 6x5 (num_rows x num_cols) world\n",
    "world = np.array([ [0, 0, 0, 1, 0],\n",
    "                   [0, 0, 0, 1, 0],\n",
    "                   [0, 1, 1, 0, 0],\n",
    "                   [0, 0, 0, 0, 1],\n",
    "                   [1, 0, 0, 1, 0],\n",
    "                   [1, 0, 0, 0, 0] ])\n",
    "\n",
    "# Visualize the world\n",
    "print(world)"
   ]
  },
  {
   "cell_type": "code",
   "execution_count": null,
   "metadata": {
    "collapsed": true
   },
   "outputs": [],
   "source": [
    "# Print out some information about the world\n",
    "\n",
    "print('The shape of this array is: ' + str(world.shape))\n",
    "print('Notice that the number of rows come before the number of columns!')\n",
    "print('It\\'s height is: ' + str(world.shape[0]) + \n",
    "      ', and it\\'s width is: ' + str(world.shape[1]))"
   ]
  },
  {
   "cell_type": "markdown",
   "metadata": {},
   "source": [
    "### Read and compare values in a 2D array\n",
    "\n",
    "### 2차원 배열의 값을 읽고 비교합니다."
   ]
  },
  {
   "cell_type": "code",
   "execution_count": null,
   "metadata": {
    "collapsed": true
   },
   "outputs": [],
   "source": [
    "# Access a location and read its value\n",
    "value = world[3][0]\n",
    "print('\\n')\n",
    "print('Value at index [3, 0] = ' +str(value))\n",
    "\n",
    "# Read the first three items in the 3rd row\n",
    "row = 2\n",
    "column_index = 0\n",
    "value_left = world[row, column_index]\n",
    "value_middle = world[row, column_index + 1]\n",
    "value_right = world[row, column_index + 2]\n",
    "\n",
    "print('\\nThe first three values in row 2 : ' +str(value_left)+', '\n",
    "                                              +str(value_middle) +', '\n",
    "                                              +str(value_right) )\n",
    "\n",
    "# Compare the first two values and print the result\n",
    "compare = world[0][0] == world[0][1]\n",
    "print('\\nDo the first two values match? ' + str(compare))"
   ]
  },
  {
   "cell_type": "markdown",
   "metadata": {},
   "source": [
    "### Change an Array and Plant a Tree!\n",
    "\n",
    "### 배열을 바꾸고 나무를 심어보세요!"
   ]
  },
  {
   "cell_type": "code",
   "execution_count": null,
   "metadata": {
    "collapsed": true
   },
   "outputs": [],
   "source": [
    "# Define a function to plant a tree \n",
    "# and change the value of the array in that location\n",
    "def plant_tree(y, x):\n",
    "    # check that the indices are in the boundaries of the array dimensions\n",
    "    if(y < world.shape[0] and x < world.shape[1]):\n",
    "        world[y,x] = 1\n",
    "        print('\\n' + str(world)) # prints a newline and the current world\n",
    "\n",
    "# Call the function at the location x = 3, and y = 2\n",
    "# You can call this multiple times in a row\n",
    "plant_tree(0, 2)"
   ]
  },
  {
   "cell_type": "markdown",
   "metadata": {},
   "source": [
    "# 2D Iteration\n",
    "\n",
    "In this demonstration, you'll see how to iterate through a 2D array used nested loops, and we'll be using our iterative skills to locate trees in this world!\n",
    "\n",
    "### Create the world\n",
    "\n",
    "# 2D 반복\n",
    "\n",
    "이 데모에서는 중첩 루프를 사용하여 2D 배열을 반복하는 방법을 살펴보고, 반복 기술을 사용하여 이 세계에서 나무를 찾습니다!\n",
    "\n",
    "### 세계를 창조하세요"
   ]
  },
  {
   "cell_type": "code",
   "execution_count": null,
   "metadata": {
    "collapsed": true
   },
   "outputs": [],
   "source": [
    "import numpy as np\n",
    "\n",
    "# A 6x5 robot world\n",
    "world = np.array([ [0, 0, 0, 1, 0],\n",
    "                   [0, 0, 0, 1, 0],\n",
    "                   [0, 1, 1, 0, 0],\n",
    "                   [0, 0, 0, 0, 1],\n",
    "                   [1, 0, 0, 1, 0],\n",
    "                   [1, 0, 0, 0, 0] ])\n",
    "\n",
    "# Print out some information about the world\n",
    "print(world)\n",
    "print('\\nThe shape of this array is: ' + str(world.shape))"
   ]
  },
  {
   "cell_type": "markdown",
   "metadata": {},
   "source": [
    "### Iterate through the items in the world\n",
    "\n",
    "### 세계의 항목을 반복합니다."
   ]
  },
  {
   "cell_type": "code",
   "execution_count": null,
   "metadata": {},
   "outputs": [],
   "source": [
    "# This function uses nested for loops and knowledge\n",
    "# about the shape of the array to print out each item with it's index\n",
    "def iterate2D(world):\n",
    "    # y-dimension (rows)\n",
    "    for i in range(0, world.shape[0]):\n",
    "        # x-dimension (columns)\n",
    "        for j in range(0, world.shape[1]):\n",
    "            print('Index ['+str(i)+']['+str(j)+'] = ' +str(world[i][j]))\n",
    "\n",
    "# Call the iterate function\n",
    "print('\\n')\n",
    "iterate2D(world)"
   ]
  },
  {
   "cell_type": "markdown",
   "metadata": {},
   "source": [
    "### Find the first tree, `1`, in the world\n",
    "\n",
    "### 세계 최초의 나무 `1`을 찾으세요"
   ]
  },
  {
   "cell_type": "code",
   "execution_count": null,
   "metadata": {},
   "outputs": [],
   "source": [
    "# This function is similar to our iterate2D function,\n",
    "# But looks for the first tree in the array and prints its location [x][y]\n",
    "def first_tree(world):\n",
    "    # iterates through all indices starting at the top-left [0][0]\n",
    "    for i in range(0, world.shape[0]):\n",
    "        for j in range(0, world.shape[1]):\n",
    "            # check if a tree is found\n",
    "            if(world[i][j] == 1):\n",
    "                # if so, print the index and leave the loop with a return statement\n",
    "                print('First tree found at location: ['+str(i)+']['+str(j)+']')\n",
    "                return \n",
    "\n",
    "            \n",
    "# Call the first_tree function\n",
    "print('\\n')\n",
    "first_tree(world)"
   ]
  },
  {
   "cell_type": "markdown",
   "metadata": {},
   "source": [
    "# Pattern Matching\n",
    "\n",
    "Now that you know how to iterate through a 2D array, your next task will be to use what you've learned to help locate a robot in a 2D world based on some sensor measurements.\n",
    "\n",
    "In this example, a robot is navigating a 4x5 orange and blue world, shown below. This robot also has a sensor that tells it the color of the square it's on top of and the color of the square directly to its right.\n",
    "\n",
    "# 패턴 매칭\n",
    "\n",
    "이제 2D 배열을 반복하는 방법을 알았으니, 다음 과제는 배운 내용을 사용하여 일부 센서 측정을 기반으로 2D 세계에서 로봇을 찾는 것입니다.\n",
    "\n",
    "이 예에서 로봇은 아래에 표시된 4x5 주황색과 파란색 세계를 탐색합니다. 이 로봇에는 또한 위에 있는 사각형의 색상과 바로 오른쪽에 있는 사각형의 색상을 알려주는 센서가 있습니다."
   ]
  },
  {
   "cell_type": "code",
   "execution_count": null,
   "metadata": {},
   "outputs": [],
   "source": [
    "import numpy as np\n",
    "\n",
    "# A 4x5 robot world of characters 'o' and 'b'\n",
    "world = np.array([ ['o', 'b', 'o', 'o', 'b'],\n",
    "                   ['o', 'o', 'b', 'o', 'o'],\n",
    "                   ['b', 'o', 'o', 'b', 'o'],\n",
    "                   ['b', 'o', 'o', 'o', 'o'] ])\n",
    "\n",
    "# Sensor measurement\n",
    "measurement = np.array(['b', 'o'])\n",
    "\n",
    "def find_match(world, measurement):\n",
    "    \"\"\"\n",
    "    This function takes in the world and the sensor measurement.\n",
    "    Complete this function so that it returns the indices of the \n",
    "    likely robot locations, based on matching the measurement\n",
    "    with the color patterns in the world\n",
    "    \"\"\"\n",
    "    \n",
    "    # Empty possible_locations list\n",
    "    possible_locations = []\n",
    "    \n",
    "    # TODO: Iterate through the world (making sure not to go past the\n",
    "    # bounds of the world). No need to go all the way to the right edge\n",
    "    # of the world, since there needs to be room for the square to the\n",
    "    # right of the robot\n",
    "    \n",
    "    \n",
    "            # TODO: Check if a match is found by comparing array contents\n",
    "            # and checking for equality\n",
    "            \n",
    "\n",
    "                # If a match is found, append the current location\n",
    "                # in the format [row_index, column_index], e.g. [0, 0]\n",
    "                \n",
    "    \n",
    "    return possible_locations\n",
    "   \n",
    "# This line runs the function and stores the output - do not delete \n",
    "locations = find_match(world, measurement)"
   ]
  },
  {
   "cell_type": "markdown",
   "metadata": {},
   "source": [
    "# Why use numpy arrays?\n",
    "Numpy is one of those tools that will keep showing up as you learn about self driving cars. This is because numpy arrays tend to be:\n",
    "\n",
    "1. **compact** (they don't take up as much space in memory as a Python list).\n",
    "\n",
    "2. **efficient** (computations usually run quicker on numpy arrays then Python lists).\n",
    "\n",
    "3. **convenient** (which we'll talk about more now).\n",
    "\n",
    "# 왜 numpy 배열을 사용해야 하나요?\n",
    "numpy는 자율 주행 자동차에 대해 배울 때 계속 등장하는 도구 중 하나입니다. numpy 배열은 다음과 같은 경향이 있기 때문입니다.\n",
    "\n",
    "1. **컴팩트** (Python 목록만큼 메모리 공간을 많이 차지하지 않음).\n",
    "\n",
    "2. **효율적** (일반적으로 numpy 배열에서 Python 목록보다 계산이 더 빠름).\n",
    "\n",
    "3. **편리함** (지금 더 자세히 설명하겠습니다)."
   ]
  },
  {
   "cell_type": "code",
   "execution_count": null,
   "metadata": {},
   "outputs": [],
   "source": [
    "# consider this 2d python grid (list of lists)\n",
    "grid = [\n",
    "    [0, 1, 5],\n",
    "    [1, 2, 6],\n",
    "    [2, 3, 7],\n",
    "    [3, 4, 8]\n",
    "]\n",
    "\n",
    "# It's easy to print, for example, row number 0:\n",
    "print(grid[0])"
   ]
  },
  {
   "cell_type": "code",
   "execution_count": null,
   "metadata": {},
   "outputs": [],
   "source": [
    "# but how would you print COLUMN 0? In numpy, this is easy\n",
    "\n",
    "import numpy as np\n",
    "\n",
    "np_grid = np.array([\n",
    "    [0, 1, 5],\n",
    "    [1, 2, 6],\n",
    "    [2, 3, 7],\n",
    "    [3, 4, 8]\n",
    "])\n",
    "\n",
    "# The ':' usually means \"*all values*\n",
    "print(np_grid[:,0])"
   ]
  },
  {
   "cell_type": "code",
   "execution_count": null,
   "metadata": {},
   "outputs": [],
   "source": [
    "# What if you wanted to change the shape of the array?\n",
    "\n",
    "# For example, we can turn the 2D grid from above into a 1D array\n",
    "# Here, the -1 means automatically fit all values into this 1D shape\n",
    "np_1D = np.reshape(np_grid, (1, -1))\n",
    "\n",
    "print(np_1D)"
   ]
  },
  {
   "cell_type": "code",
   "execution_count": null,
   "metadata": {},
   "outputs": [],
   "source": [
    "# We can also create a 2D array of zeros or ones\n",
    "# which is useful for car world creation and analysis\n",
    "\n",
    "# Create a 5x4 array\n",
    "zero_grid = np.zeros((5, 4))\n",
    "\n",
    "print(zero_grid)"
   ]
  }
 ],
 "metadata": {
  "anaconda-cloud": {},
  "kernelspec": {
   "display_name": "Python 3",
   "language": "python",
   "name": "python3"
  },
  "language_info": {
   "codemirror_mode": {
    "name": "ipython",
    "version": 3
   },
   "file_extension": ".py",
   "mimetype": "text/x-python",
   "name": "python",
   "nbconvert_exporter": "python",
   "pygments_lexer": "ipython3",
   "version": "3.6.3"
  }
 },
 "nbformat": 4,
 "nbformat_minor": 1
}
